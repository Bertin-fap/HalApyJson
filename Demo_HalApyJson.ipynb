{
 "cells": [
  {
   "cell_type": "markdown",
   "metadata": {},
   "source": [
    "# DEMO of HalApyJson\n",
    "The request to the Hal api is buid out using the fields defined in the file ~\\Appdata\\Roaming\\HalApyJson\\config_hal.json"
   ]
  },
  {
   "cell_type": "code",
   "execution_count": 1,
   "metadata": {},
   "outputs": [
    {
     "data": {
      "text/plain": [
       "{'HAL_URL': 'http://api.archives-ouvertes.fr/search/',\n",
       " 'HAL_GATE': 'cea',\n",
       " 'DOC_TYPES': '(ART OR COMM OR COUV OR OUV OR DOUV OR POSTER)',\n",
       " 'HAL_RESULTS_NB': '250',\n",
       " 'HAL_RESULTS_FORMAT': 'json',\n",
       " 'INSTITUTE': 'Liten',\n",
       " 'QUERY_TERMS': '*:*',\n",
       " 'HAL_FIELDS': {'01': 'label_s',\n",
       "  '02': 'authFullName_s',\n",
       "  '03': 'title_s',\n",
       "  '04': 'producedDateY_i',\n",
       "  '05': 'publicationDate_s',\n",
       "  '06': 'journalTitle_s',\n",
       "  '07': 'volume_s',\n",
       "  '08': 'number_s',\n",
       "  '09': 'page_s',\n",
       "  '10': 'doiId_s',\n",
       "  '11': 'uri_s',\n",
       "  '12': 'researchData_s',\n",
       "  '13': 'keyword_s',\n",
       "  '14': 'labStructAcronym_s',\n",
       "  '15': 'structAcronym_s',\n",
       "  '16': 'deptStructAcronym_s',\n",
       "  '17': 'instStructAcronym_s',\n",
       "  '18': 'europeanProjectAcronym_s',\n",
       "  '19': 'anrProjectAcronym_s',\n",
       "  '20': 'docType_s',\n",
       "  '21': 'invitedCommunication_s',\n",
       "  '22': 'language_t',\n",
       "  '23': 'journalEissn_s',\n",
       "  '24': 'journalIssn_s',\n",
       "  '25': 'isbn_s',\n",
       "  '26': 'abstract_s',\n",
       "  '27': 'fileMain_s',\n",
       "  '28': 'domainAllCode_s',\n",
       "  '29': 'label_endnote'},\n",
       " 'HAL_FINAL_COLS': {'02': 'Auteurs',\n",
       "  '03': 'Titres',\n",
       "  '05': 'Date de publication',\n",
       "  '06': 'Journal',\n",
       "  '10': 'DOI',\n",
       "  '11': 'Lien url',\n",
       "  '13': 'Mots clefs',\n",
       "  '14': 'Affiliations',\n",
       "  '15': 'Institutions',\n",
       "  '16': 'Depts',\n",
       "  '17': 'Organismes',\n",
       "  '20': 'Type de document',\n",
       "  '24': 'ISSN',\n",
       "  '23': 'e-ISSN'}}"
      ]
     },
     "execution_count": 1,
     "metadata": {},
     "output_type": "execute_result"
    }
   ],
   "source": [
    "import HalApyJson as ha\n",
    "ha.GLOBAL"
   ]
  },
  {
   "cell_type": "code",
   "execution_count": 2,
   "metadata": {},
   "outputs": [
    {
     "name": "stdout",
     "output_type": "stream",
     "text": [
      "Resquest successful\n",
      "\n",
      "Number of items:  155\n"
     ]
    }
   ],
   "source": [
    "from pathlib import Path\n",
    "import HalApyJson as ha\n",
    "\n",
    "path_home = Path.home()\n",
    "root_path = path_home / Path('BiblioMeter_App\\Extractions HAL')\n",
    "year = \"2023\"\n",
    "results_df = ha.hal_query(year)\n",
    "results_df.to_excel(root_path  / Path(year + \" HAL.xlsx\"), index = False)"
   ]
  },
  {
   "cell_type": "code",
   "execution_count": null,
   "metadata": {},
   "outputs": [],
   "source": []
  }
 ],
 "metadata": {
  "kernelspec": {
   "display_name": "Python 3 (ipykernel)",
   "language": "python",
   "name": "python3"
  },
  "language_info": {
   "codemirror_mode": {
    "name": "ipython",
    "version": 3
   },
   "file_extension": ".py",
   "mimetype": "text/x-python",
   "name": "python",
   "nbconvert_exporter": "python",
   "pygments_lexer": "ipython3",
   "version": "3.9.7"
  }
 },
 "nbformat": 4,
 "nbformat_minor": 4
}
